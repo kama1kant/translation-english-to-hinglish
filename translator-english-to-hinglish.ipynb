{
 "cells": [
  {
   "cell_type": "code",
   "execution_count": 1,
   "id": "c42ef690-775e-4675-8489-374c4585445f",
   "metadata": {},
   "outputs": [],
   "source": [
    "from transformers import AutoTokenizer, AutoModelForSeq2SeqLM\n",
    "from transformers import pipeline"
   ]
  },
  {
   "cell_type": "markdown",
   "id": "7830cb18-b3c2-4345-8f2e-89e74db9d854",
   "metadata": {},
   "source": [
    "### Load pre-trained model from Huggingface Transformer"
   ]
  },
  {
   "cell_type": "code",
   "execution_count": 2,
   "id": "c4064240-d2e3-4957-8655-3f1330d5e470",
   "metadata": {},
   "outputs": [],
   "source": [
    "tokenizer = AutoTokenizer.from_pretrained(\"Helsinki-NLP/opus-mt-en-hi\")\n",
    "model = AutoModelForSeq2SeqLM.from_pretrained(\"Helsinki-NLP/opus-mt-en-hi\")"
   ]
  },
  {
   "cell_type": "markdown",
   "id": "670e363e-3430-4303-b685-5534d264b4f7",
   "metadata": {},
   "source": [
    "### Function to convert Hindi to Hinglish"
   ]
  },
  {
   "cell_type": "code",
   "execution_count": 43,
   "id": "827ab423-6ce9-49e5-a095-11ff2b3f5d94",
   "metadata": {},
   "outputs": [],
   "source": [
    "def hindiToHinglish(sentence):\n",
    "    consonant = {'क':['ka','k'],'ख':['kha','kh'],'ग':['ga','g'],'घ':['gha','gh'],'च':['cha','ch'],'छ':['chha','chh'],'ज':['ja','j'],'झ':['jha','jh'],'ट':['ta','t'],'ठ':['tha','th'],'ड':['da','d'],'ढ':['dha','dh'],'त':['ta','t'],'थ':['tha','th'],'द':['da','d'],'ध':['dha','dh'],'न':['na','n'],'प':['pa','p'],'फ':['pha','ph'],'ब':['ba','b'],'भ':['bha','bh'],'म':['ma','m'],'य':['ya','y'],'र':['ra','r'],'ल':['la','l'],'व':['va','v'],'श':['sha','sh'],'स':['sa','s'],'ह':['ha','h'],'ञ':['gya','gy'],'ण':['da','d']}\n",
    "    vowel = {'अ':['a'],'आ':['aa'],'इ':['e'],'ई':['e'],'उ':['u'],'ऊ':['u'],'ए':['e'],'ऐ':['ae'],'ओ':['o'],'औ':['ao'],'ा':['a'],'ि':['i'],'ी':['ee'],'ु':['u'],'ू':['u'],'े':['e'],'ै':['ae'],'ो':['o'],'ौ':['ao'],'ं':['n'],'ँ':['n'],'्':['a'], '़':[''],'ः':['ah']}\n",
    "    words = sentence.split(' ')\n",
    "    eng = ''\n",
    "    for j in range(len(words)):\n",
    "        w = words[j]\n",
    "        for i in range(len(w)):\n",
    "            char = w[i]\n",
    "            if char in vowel:\n",
    "                eng += vowel[char][0]\n",
    "            elif char in consonant:\n",
    "                if i+1 == len(w) or i+1 < len(w) and w[i+1] in vowel:\n",
    "                    eng += consonant[char][1]\n",
    "                else:\n",
    "                    eng += consonant[char][0]\n",
    "            else:\n",
    "                eng += char\n",
    "        eng += ' '\n",
    "    return eng.strip()"
   ]
  },
  {
   "cell_type": "markdown",
   "id": "da51013e-74e8-4e01-8140-bc0960312c53",
   "metadata": {},
   "source": [
    "### Function to convert English to Hindi using Huggingface Transformer"
   ]
  },
  {
   "cell_type": "code",
   "execution_count": 43,
   "id": "6245ccd3-b647-47ce-9bf9-59f62b379c40",
   "metadata": {},
   "outputs": [],
   "source": [
    "def englishToHindi(sentence):\n",
    "    inputs = tokenizer.encode(sentence, return_tensors=\"pt\")\n",
    "    outputs = model.generate(inputs, max_length=40, num_beams=4, early_stopping=True)\n",
    "    hindi = tokenizer.decode(outputs[0])\n",
    "    return hindi.strip()"
   ]
  },
  {
   "cell_type": "markdown",
   "id": "6f2de0af-753c-4749-adde-0fdd7291f122",
   "metadata": {},
   "source": [
    "### Function to convert English to Hinglish combining above two methods"
   ]
  },
  {
   "cell_type": "code",
   "execution_count": 43,
   "id": "7e0114aa-871e-4582-b5ff-4065a00473c1",
   "metadata": {},
   "outputs": [],
   "source": [
    "def englishToHinglish(sentence):\n",
    "    return hindiToHinglish(englishToHindi(sentence))"
   ]
  },
  {
   "cell_type": "markdown",
   "id": "6ae2a6bf-ecdd-4fdf-ba78-6282c0aa7334",
   "metadata": {},
   "source": [
    "### Test: Convert a sentence in English to Hindi & Hinglish"
   ]
  },
  {
   "cell_type": "code",
   "execution_count": 46,
   "id": "8db866e2-674d-46f3-9ce5-3b68ce71066a",
   "metadata": {},
   "outputs": [
    {
     "name": "stdout",
     "output_type": "stream",
     "text": [
      "<pad> यह इमारत 600 साल पुरानी है\n",
      "<pad> yah emarat 600 sal puranee hae\n"
     ]
    }
   ],
   "source": [
    "sentence = \"This building is 600 years old\"\n",
    "hindi = englishToHindi(sentence)\n",
    "hinglish = hindiToHinglish(hindi)\n",
    "\n",
    "print(hindi.strip())\n",
    "print(hinglish)"
   ]
  },
  {
   "cell_type": "code",
   "execution_count": null,
   "id": "df971665-39fc-4931-89e2-7f437a36ccb5",
   "metadata": {},
   "outputs": [],
   "source": []
  }
 ],
 "metadata": {
  "kernelspec": {
   "display_name": "Python 3",
   "language": "python",
   "name": "python3"
  },
  "language_info": {
   "codemirror_mode": {
    "name": "ipython",
    "version": 3
   },
   "file_extension": ".py",
   "mimetype": "text/x-python",
   "name": "python",
   "nbconvert_exporter": "python",
   "pygments_lexer": "ipython3",
   "version": "3.9.5"
  }
 },
 "nbformat": 4,
 "nbformat_minor": 5
}
